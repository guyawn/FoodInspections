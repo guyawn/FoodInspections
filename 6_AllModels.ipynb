{
 "cells": [
  {
   "cell_type": "markdown",
   "metadata": {
    "colab_type": "text",
    "id": "BDWXPWwZC5E0"
   },
   "source": [
    "Load required packages"
   ]
  },
  {
   "cell_type": "code",
   "execution_count": 1,
   "metadata": {
    "ExecuteTime": {
     "end_time": "2020-05-13T13:33:06.582343Z",
     "start_time": "2020-05-13T13:33:05.831167Z"
    },
    "colab": {},
    "colab_type": "code",
    "id": "BjDCgDiXWWaO"
   },
   "outputs": [
    {
     "ename": "ModuleNotFoundError",
     "evalue": "No module named 'torch'",
     "output_type": "error",
     "traceback": [
      "\u001b[0;31m---------------------------------------------------------------------------\u001b[0m",
      "\u001b[0;31mModuleNotFoundError\u001b[0m                       Traceback (most recent call last)",
      "\u001b[0;32m<ipython-input-1-70043ccda38b>\u001b[0m in \u001b[0;36m<module>\u001b[0;34m\u001b[0m\n\u001b[1;32m      1\u001b[0m \u001b[0;32mimport\u001b[0m \u001b[0mnumpy\u001b[0m \u001b[0;32mas\u001b[0m \u001b[0mnp\u001b[0m\u001b[0;34m\u001b[0m\u001b[0;34m\u001b[0m\u001b[0m\n\u001b[1;32m      2\u001b[0m \u001b[0;32mimport\u001b[0m \u001b[0mmatplotlib\u001b[0m\u001b[0;34m.\u001b[0m\u001b[0mpyplot\u001b[0m \u001b[0;32mas\u001b[0m \u001b[0mplt\u001b[0m\u001b[0;34m\u001b[0m\u001b[0;34m\u001b[0m\u001b[0m\n\u001b[0;32m----> 3\u001b[0;31m \u001b[0;32mimport\u001b[0m \u001b[0mtorch\u001b[0m\u001b[0;34m\u001b[0m\u001b[0;34m\u001b[0m\u001b[0m\n\u001b[0m\u001b[1;32m      4\u001b[0m \u001b[0;32mimport\u001b[0m \u001b[0mpickle\u001b[0m\u001b[0;34m\u001b[0m\u001b[0;34m\u001b[0m\u001b[0m\n\u001b[1;32m      5\u001b[0m \u001b[0;32mimport\u001b[0m \u001b[0mcv2\u001b[0m\u001b[0;34m\u001b[0m\u001b[0;34m\u001b[0m\u001b[0m\n",
      "\u001b[0;31mModuleNotFoundError\u001b[0m: No module named 'torch'"
     ]
    }
   ],
   "source": [
    "import numpy as np\n",
    "import matplotlib.pyplot as plt\n",
    "import torch\n",
    "import pickle\n",
    "import cv2\n",
    "import zipfile\n",
    "import os"
   ]
  },
  {
   "cell_type": "markdown",
   "metadata": {
    "colab_type": "text",
    "id": "IpYKJwUBDCn9"
   },
   "source": [
    "Load the zipped data file of the specified type."
   ]
  },
  {
   "cell_type": "code",
   "execution_count": 0,
   "metadata": {
    "colab": {},
    "colab_type": "code",
    "id": "eauyrJE109CB"
   },
   "outputs": [],
   "source": [
    "dataset = \"BOW\""
   ]
  },
  {
   "cell_type": "code",
   "execution_count": 0,
   "metadata": {
    "colab": {},
    "colab_type": "code",
    "id": "aj7rWLcKyFaZ"
   },
   "outputs": [],
   "source": [
    "if not(os.path.exists(dataset)):\n",
    "  with zipfile.ZipFile(dataset + \".zip\", 'r') as zip_ref:\n",
    "    zip_ref.extractall(\"\")"
   ]
  },
  {
   "cell_type": "code",
   "execution_count": 0,
   "metadata": {
    "colab": {},
    "colab_type": "code",
    "id": "wBIGyikhZTO2"
   },
   "outputs": [],
   "source": [
    "# Load data\n",
    "with open(dataset + \"/X.pkl\", \"rb\") as f:\n",
    "  X = pickle.load(f)\n",
    "\n",
    "with open(dataset + \"/y.pkl\", \"rb\") as f:\n",
    "  y = pickle.load(f)\n",
    "\n",
    "X = X.to('cuda').float()\n",
    "y = y.to('cuda').float()\n",
    "y = (y> 10).float()"
   ]
  },
  {
   "cell_type": "code",
   "execution_count": 0,
   "metadata": {
    "colab": {},
    "colab_type": "code",
    "id": "J9MAGMmOXmSQ"
   },
   "outputs": [],
   "source": [
    "indices = np.arange(0, X.shape[0])\n",
    "np.random.shuffle(indices)\n",
    "train_indices = indices[:(X.shape[0] - 1000)]\n",
    "test_indices = indices[(X.shape[0] - 1000):]\n",
    "\n",
    "y_train = y[train_indices]\n",
    "y_test = y[test_indices]\n",
    "X_train = X[train_indices, :, :]\n",
    "X_test = X[test_indices, :, :]"
   ]
  },
  {
   "cell_type": "markdown",
   "metadata": {
    "colab_type": "text",
    "id": "p3aMGsMODLWR"
   },
   "source": [
    "Define an RNN architecture for modelling."
   ]
  },
  {
   "cell_type": "code",
   "execution_count": 0,
   "metadata": {
    "colab": {},
    "colab_type": "code",
    "id": "EMCGDjC7Zdhf"
   },
   "outputs": [],
   "source": [
    "# Define the network as a class\n",
    "class RNNNetwork(torch.nn.Module):\n",
    "\n",
    "    def __init__(self, input_size):\n",
    "        super(RNNNetwork, self).__init__()\n",
    "        \n",
    "        #  Recurrent (sequence) layer\n",
    "        self.lstm = torch.nn.LSTM(input_size, 25)\n",
    "\n",
    "        # Two linear layers\n",
    "        self.linear1 = torch.nn.Linear(100, 25)\n",
    "        self.linear2 = torch.nn.Linear(25, 1)\n",
    "\n",
    "        # Dropout of 50% of values\n",
    "        self.dropout = torch.nn.Dropout(0.5)\n",
    "\n",
    "        # Sigmoid activation\n",
    "        self.sigmoid = torch.nn.Sigmoid()\n",
    "\n",
    "    # Performs the forward pass\n",
    "    def forward(self, x):\n",
    "        out, _ = self.lstm(x)\n",
    "        out = self.dropout(out)\n",
    "        #out = self.linear1(out.view(len(x), -1))\n",
    "        out = self.linear2(out)\n",
    "        out = self.sigmoid(out)\n",
    "        return out[len(x)-1]"
   ]
  },
  {
   "cell_type": "code",
   "execution_count": 0,
   "metadata": {
    "colab": {},
    "colab_type": "code",
    "id": "NZ1Hoez6LcGY"
   },
   "outputs": [],
   "source": [
    "# Declare a model and prepare for training\n",
    "rnn_model = RNNNetwork(X_train.shape[2])\n",
    "rnn_model.to('cuda')\n",
    "rnn_model.train(True)\n",
    "rnn_model.float()\n",
    "\n",
    "# Use the mse loss for a criterion\n",
    "criterion = torch.nn.MSELoss()\n",
    "\n",
    "# Define the adam optimizer on the discriminator network\n",
    "rnn_optimizer = torch.optim.Adam(rnn_model.parameters(), lr=0.000001,\n",
    "                                 betas=(0.9, 0.9999))\n"
   ]
  },
  {
   "cell_type": "markdown",
   "metadata": {
    "colab_type": "text",
    "id": "pJ7wHz_TDcnd"
   },
   "source": [
    "Train the model:"
   ]
  },
  {
   "cell_type": "code",
   "execution_count": 0,
   "metadata": {
    "colab": {
     "base_uri": "https://localhost:8080/",
     "height": 263
    },
    "colab_type": "code",
    "id": "_OzioBvgMaqc",
    "outputId": "da91fa7d-8d6d-4963-c725-0b815e270bc5"
   },
   "outputs": [
    {
     "name": "stdout",
     "output_type": "stream",
     "text": [
      "0  of  100\n"
     ]
    },
    {
     "name": "stderr",
     "output_type": "stream",
     "text": [
      "/usr/local/lib/python3.6/dist-packages/torch/nn/modules/loss.py:431: UserWarning: Using a target size (torch.Size([1])) that is different to the input size (torch.Size([1, 1])). This will likely lead to incorrect results due to broadcasting. Please ensure they have the same size.\n",
      "  return F.mse_loss(input, target, reduction=self.reduction)\n"
     ]
    },
    {
     "name": "stdout",
     "output_type": "stream",
     "text": [
      "10  of  100\n",
      "20  of  100\n",
      "30  of  100\n",
      "40  of  100\n",
      "50  of  100\n",
      "60  of  100\n",
      "70  of  100\n",
      "80  of  100\n",
      "90  of  100\n",
      "100  of  100\n"
     ]
    }
   ],
   "source": [
    "# Save the losses\n",
    "losses_train = []\n",
    "losses_test = []\n",
    "epochs = 100\n",
    "\n",
    "# Use  100 epochs\n",
    "for i in range(0, epochs+1):\n",
    "    \n",
    "    # Every tenth iteration\n",
    "    if (i % 10 == 0):\n",
    "\n",
    "      # Track the epoch count\n",
    "      print(i, \" of \", epochs)\n",
    "\n",
    "      # Get loss on the training data\n",
    "      epoch_losses_train = []\n",
    "      for j in range(0, int(X_train.shape[0])):\n",
    "      \n",
    "          # Zero the  gradient\n",
    "          rnn_optimizer.zero_grad()\n",
    "\n",
    "          # Select inputs\n",
    "          train_input = X_train[j:(j+1),:, :]\n",
    "          train_input = X_train[(j):(j+1),:((np.where(train_input.sum(axis=2).cpu().numpy() != -300))[1]).max(), :]\n",
    "          train_input = train_input.reshape(train_input.shape[1], 1, train_input.shape[2])\n",
    "\n",
    "          # Skip this input if needed\n",
    "          if train_input.shape[0] == 0:\n",
    "            continue\n",
    "\n",
    "          # Get outputs and truth\n",
    "          train_output = rnn_model(train_input)\n",
    "          true_output = y_train[j:(j+1)]\n",
    "          \n",
    "          # Calculate the loss and update the model\n",
    "          loss = criterion(train_output, true_output)\n",
    "          loss.backward()\n",
    "          rnn_optimizer.step()\n",
    "\n",
    "          # Save the loss for this training iteration\n",
    "          epoch_losses_train.append(loss)\n",
    "\n",
    "      # Set training to false\n",
    "      rnn_model.train(False)\n",
    "\n",
    "      # Get loss on the testing data\n",
    "      epoch_losses_test = []\n",
    "      for j in range(0, int(X_test.shape[0])):\n",
    "\n",
    "          # Select inputs\n",
    "          train_input = X_test[j:(j+1),:, :]\n",
    "          train_input = X_test[(j):(j+1),:((np.where(train_input.sum(axis=2).cpu().numpy() != -300))[1]).max(), :]\n",
    "          train_input = train_input.reshape(train_input.shape[1], 1, train_input.shape[2])\n",
    "\n",
    "          # Sip if neceeded\n",
    "          if train_input.shape[0] == 0:\n",
    "            continue\n",
    "\n",
    "          # Get outputs and truth\n",
    "          train_output = rnn_model(train_input)\n",
    "          true_output = y_test[j:(j+1)]\n",
    "          \n",
    "          # Calculate the save the loss, but don't update the model\n",
    "          loss = criterion(train_output, true_output)\n",
    "          epoch_losses_test.append(loss)\n",
    "\n",
    "      # Save the losses\n",
    "      losses_train.append((sum(epoch_losses_train) / len(epoch_losses_train)).sqrt())\n",
    "      losses_test.append((sum(epoch_losses_test) / len(epoch_losses_test)).sqrt())\n",
    "\n",
    "      # Allow model to train on the next iterations\n",
    "      rnn_model.train(True)\n",
    "    \n",
    "    else:\n",
    "\n",
    "      # Go across the entire dataset\n",
    "      for j in range(0, int(X_train.shape[0])):\n",
    "      \n",
    "          # Zero the  gradient\n",
    "          rnn_optimizer.zero_grad()\n",
    "\n",
    "          # Select inputs\n",
    "          train_input = X_train[j:(j+1),:, :]\n",
    "          train_input = X_train[(j):(j+1),:((np.where(train_input.sum(axis=2).cpu().numpy() != -300))[1]).max(), :]\n",
    "          train_input = train_input.reshape(train_input.shape[1], 1, train_input.shape[2])\n",
    "\n",
    "          # Skip 0 length sequences\n",
    "          if train_input.shape[0] == 0:\n",
    "            continue\n",
    "\n",
    "          # Get hte training output\n",
    "          train_output = rnn_model(train_input)\n",
    "          true_output = y_train[j:(j+1)]\n",
    "          \n",
    "          # Calculate the loss and update the model\n",
    "          loss = criterion(train_output, true_output)\n",
    "          loss.backward()\n",
    "          rnn_optimizer.step()"
   ]
  },
  {
   "cell_type": "code",
   "execution_count": 3,
   "metadata": {
    "ExecuteTime": {
     "end_time": "2020-05-13T13:33:41.339995Z",
     "start_time": "2020-05-13T13:33:41.196569Z"
    },
    "colab": {
     "base_uri": "https://localhost:8080/",
     "height": 283
    },
    "colab_type": "code",
    "id": "rQYop2ahOrx5",
    "outputId": "84a1ea3e-0bd5-4021-8544-211528c0f72b"
   },
   "outputs": [
    {
     "data": {
      "text/plain": [
       "[<matplotlib.lines.Line2D at 0x7fe048366ac8>]"
      ]
     },
     "execution_count": 3,
     "metadata": {},
     "output_type": "execute_result"
    },
    {
     "data": {
      "image/png": "[encoded data removed]",
      "text/plain": [
       "<Figure size 432x288 with 1 Axes>"
      ]
     },
     "metadata": {
      "needs_background": "light"
     },
     "output_type": "display_data"
    }
   ],
   "source": [
    "# Plot the training /testing losses\n",
    "plt.plot(np.arange(0,100))  #losses_train_plot)\n",
    "plt.plot(np.arange(5,105)) #losses_test_plot)"
   ]
  },
  {
   "cell_type": "markdown",
   "metadata": {
    "colab_type": "text",
    "id": "T3OAGoPsDhQc"
   },
   "source": [
    "Evaluate the model on both training and testing data:"
   ]
  },
  {
   "cell_type": "code",
   "execution_count": 0,
   "metadata": {
    "colab": {
     "base_uri": "https://localhost:8080/",
     "height": 52
    },
    "colab_type": "code",
    "id": "P453LRPnOsfO",
    "outputId": "17f45e35-3e83-4810-8ab7-148641ba7dac"
   },
   "outputs": [
    {
     "name": "stdout",
     "output_type": "stream",
     "text": [
      "tensor(0.8324, device='cuda:0')\n",
      "tensor(0.8260, device='cuda:0')\n"
     ]
    }
   ],
   "source": [
    "# Turn training off\n",
    "rnn_model.train(False)\n",
    "\n",
    "# Track accuracies\n",
    "accuracy_train = []\n",
    "for j in range(0, int(X_train.shape[0])):\n",
    "\n",
    "    # Select inputs\n",
    "    train_input = X_train[j:(j+1),:, :]\n",
    "    train_input = X_train[(j):(j+1),:((np.where(train_input.sum(axis=2).cpu().numpy() != -300))[1]).max(), :]\n",
    "    train_input = train_input.reshape(train_input.shape[1], 1, train_input.shape[2])\n",
    "\n",
    "    # Skip if 0 length\n",
    "    if train_input.shape[0] == 0:\n",
    "      continue\n",
    "\n",
    "    # Calculate hte model output\n",
    "    train_output = rnn_model(train_input)\n",
    "    true_output = y_train[j:(j+1)]\n",
    "\n",
    "    # Check if it was correct\n",
    "    correct = (train_output > 0.5) == true_output\n",
    "    accuracy_train.append(correct.float())\n",
    "\n",
    "# Do same on testing data\n",
    "accuracy_test = []\n",
    "for j in range(0, int(X_test.shape[0])):\n",
    "\n",
    "    # Select inputs\n",
    "    train_input = X_test[j:(j+1),:, :]\n",
    "    train_input = X_test[(j):(j+1),:((np.where(train_input.sum(axis=2).cpu().numpy() != -300))[1]).max(), :]\n",
    "    train_input = train_input.reshape(train_input.shape[1], 1, train_input.shape[2])\n",
    "\n",
    "    if train_input.shape[0] == 0:\n",
    "      continue\n",
    "\n",
    "    if train_input.shape[0] == 0:\n",
    "      continue\n",
    "\n",
    "    train_output = rnn_model(train_input)\n",
    "    true_output = y_train[j:(j+1)]\n",
    "\n",
    "    correct = (train_output > 0.5) == true_output\n",
    "    accuracy_test.append(correct.float())\n",
    "\n",
    "# Calculate overall accuracies\n",
    "print((sum(accuracy_train)[0][0]) / len(accuracy_train))\n",
    "print((sum(accuracy_test)[0][0]) / len(accuracy_test))"
   ]
  },
  {
   "cell_type": "code",
   "execution_count": 0,
   "metadata": {
    "colab": {
     "base_uri": "https://localhost:8080/",
     "height": 35
    },
    "colab_type": "code",
    "id": "3uIuM2mmHAO_",
    "outputId": "7feea6c9-badc-46dd-f3e3-48b7542aed20"
   },
   "outputs": [
    {
     "name": "stdout",
     "output_type": "stream",
     "text": [
      "tensor([0.8200], device='cuda:0')\n"
     ]
    }
   ],
   "source": [
    "# Calculate accuracies if only guessed 0\n",
    "accuracy_naive = []\n",
    "for j in range(0, int(X_test.shape[0])):\n",
    "\n",
    "    train_output = 0\n",
    "    true_output = y_test[j:(j+1)]\n",
    "    \n",
    "    loss = (train_output > 0.5) == true_output\n",
    "    accuracy_naive.append(loss.float())\n",
    "print(sum(accuracy_naive) / len(accuracy_naive))"
   ]
  },
  {
   "cell_type": "markdown",
   "metadata": {
    "colab_type": "text",
    "id": "y84peZo6HP0z"
   },
   "source": [
    "Build an MLP for the same purpose."
   ]
  },
  {
   "cell_type": "code",
   "execution_count": 0,
   "metadata": {
    "colab": {},
    "colab_type": "code",
    "id": "N5mMAgb9BE7R"
   },
   "outputs": [],
   "source": [
    "# Define the network as a class for convenience\n",
    "class LinearNetwork(torch.nn.Module):\n",
    "\n",
    "    def __init__(self, input_size):\n",
    "        super(LinearNetwork, self).__init__()\n",
    "        \n",
    "        # 5 linear layers\n",
    "        self.linear1 = torch.nn.Linear(input_size, 1024)\n",
    "        self.linear2 = torch.nn.Linear(1024, 256)\n",
    "        self.linear3 = torch.nn.Linear(256, 64)\n",
    "        self.linear4 = torch.nn.Linear(64, 16)\n",
    "        self.linear5 = torch.nn.Linear(16, 1)\n",
    "\n",
    "        # Use sigmoid activation between each layer\n",
    "        self.activation = torch.nn.Sigmoid()\n",
    "        \n",
    "    # Performs the forward pass\n",
    "    def forward(self, x):\n",
    "\n",
    "        out = self.linear1(x)\n",
    "        out = self.activation(out)\n",
    "        \n",
    "        out = self.linear2(out)\n",
    "        out = self.activation(out)\n",
    "        \n",
    "        out = self.linear3(out)\n",
    "        out = self.activation(out)\n",
    "        \n",
    "        out = self.linear4(out)\n",
    "        out = self.activation(out)\n",
    "        \n",
    "        out = self.linear5(out)\n",
    "        return out"
   ]
  },
  {
   "cell_type": "markdown",
   "metadata": {
    "colab_type": "text",
    "id": "klkG94Z3HXRT"
   },
   "source": [
    "For bag of words, collapse along sequence axis (will throw memory error otherwise). If not, just reeshape to a 2 dimensional matrix."
   ]
  },
  {
   "cell_type": "code",
   "execution_count": 0,
   "metadata": {
    "colab": {},
    "colab_type": "code",
    "id": "IiHJa6sl517w"
   },
   "outputs": [],
   "source": [
    "if dataset == \"BOW\":\n",
    "  X_train = X_train.sum(axis=1)\n",
    "  X_test = X_test.sum(axis=1)\n",
    "else:\n",
    "  X_train = X_train.reshape(X_train.shape[0], X_train.shape[1] * X_train.shape[2])\n",
    "  X_test = X_test.reshape(X_test.shape[0], X_test.shape[1] * X_test.shape[2])"
   ]
  },
  {
   "cell_type": "code",
   "execution_count": 0,
   "metadata": {
    "colab": {},
    "colab_type": "code",
    "id": "uV8eq711HibQ"
   },
   "outputs": [],
   "source": [
    "Training the model"
   ]
  },
  {
   "cell_type": "code",
   "execution_count": 0,
   "metadata": {
    "colab": {},
    "colab_type": "code",
    "id": "hMWhkjKcamTD"
   },
   "outputs": [],
   "source": [
    "# Defines a model and prepare for training\n",
    "linear_model = LinearNetwork(X_train.shape[1])\n",
    "linear_model.to('cuda')\n",
    "linear_model.train(True)\n",
    "linear_model.float()\n",
    "\n",
    "# Use the mse loss for a criterion\n",
    "criterion = torch.nn.MSELoss()\n",
    "\n",
    "# Define the adam optimizer on the discriminator network\n",
    "linear_optimizer = torch.optim.Adam(linear_model.parameters(), lr=0.001,\n",
    "                                 betas=(0.9, 0.9999))\n"
   ]
  },
  {
   "cell_type": "code",
   "execution_count": 0,
   "metadata": {
    "colab": {
     "base_uri": "https://localhost:8080/",
     "height": 263
    },
    "colab_type": "code",
    "id": "BjLR3W3u1Xpq",
    "outputId": "7b01b449-5ca0-45bc-c8ef-3f296325ea1a"
   },
   "outputs": [
    {
     "name": "stdout",
     "output_type": "stream",
     "text": [
      "0  of  100\n"
     ]
    },
    {
     "name": "stderr",
     "output_type": "stream",
     "text": [
      "/usr/local/lib/python3.6/dist-packages/torch/nn/modules/loss.py:431: UserWarning: Using a target size (torch.Size([1])) that is different to the input size (torch.Size([1, 1])). This will likely lead to incorrect results due to broadcasting. Please ensure they have the same size.\n",
      "  return F.mse_loss(input, target, reduction=self.reduction)\n"
     ]
    },
    {
     "name": "stdout",
     "output_type": "stream",
     "text": [
      "10  of  100\n",
      "20  of  100\n",
      "30  of  100\n",
      "40  of  100\n",
      "50  of  100\n",
      "60  of  100\n",
      "70  of  100\n",
      "80  of  100\n",
      "90  of  100\n",
      "100  of  100\n"
     ]
    }
   ],
   "source": [
    "# Save the losses\n",
    "losses_train = []\n",
    "losses_test = []\n",
    "epochs = 100\n",
    "\n",
    "# Use  100 epochs\n",
    "for i in range(0, epochs+1):\n",
    "    \n",
    "    # Every tenth iteration\n",
    "    if (i % 10 == 0):\n",
    "\n",
    "      # Track the epoch count\n",
    "      print(i, \" of \", epochs)\n",
    "\n",
    "      # Get loss on the training data\n",
    "      epoch_losses_train = []\n",
    "      for j in range(0, int(X_train.shape[0])):\n",
    "      \n",
    "          # Zero the  gradient\n",
    "          linear_optimizer.zero_grad()\n",
    "\n",
    "          # Select inputs\n",
    "          train_input = X_train[j:(j+1),:]\n",
    "          \n",
    "          # Skip this input if needed\n",
    "          if train_input.shape[0] == 0:\n",
    "            continue\n",
    "\n",
    "          # Get outputs and truth\n",
    "          train_output = linear_model(train_input)\n",
    "          true_output = y_train[j:(j+1)]\n",
    "          \n",
    "          # Calculate the loss and update the model\n",
    "          loss = criterion(train_output, true_output)\n",
    "          loss.backward()\n",
    "          linear_optimizer.step()\n",
    "\n",
    "          # Save the loss for this training iteration\n",
    "          epoch_losses_train.append(loss)\n",
    "\n",
    "      # Set training to false\n",
    "      linear_model.train(False)\n",
    "\n",
    "      # Get loss on the testing data\n",
    "      epoch_losses_test = []\n",
    "      for j in range(0, int(X_test.shape[0])):\n",
    "\n",
    "          # Select inputs\n",
    "          train_input = X_test[j:(j+1),:]\n",
    "          #train_input = train_input.reshape(1, train_input.shape[1] * train_input.shape[2])\n",
    "\n",
    "          # Sip if neceeded\n",
    "          if train_input.shape[0] == 0:\n",
    "            continue\n",
    "\n",
    "          # Get outputs and truth\n",
    "          train_output = linear_model(train_input)\n",
    "          true_output = y_test[j:(j+1)]\n",
    "          \n",
    "          # Calculate the save the loss, but don't update the model\n",
    "          loss = criterion(train_output, true_output)\n",
    "          epoch_losses_test.append(loss)\n",
    "\n",
    "      # Save the losses\n",
    "      losses_train.append((sum(epoch_losses_train) / len(epoch_losses_train)).sqrt())\n",
    "      losses_test.append((sum(epoch_losses_test) / len(epoch_losses_test)).sqrt())\n",
    "\n",
    "      # Allow model to train on the next iterations\n",
    "      linear_model.train(True)\n",
    "    \n",
    "    else:\n",
    "\n",
    "      # Go across the entire dataset\n",
    "      for j in range(0, int(X_train.shape[0])):\n",
    "      \n",
    "          # Zero the  gradient\n",
    "          linear_optimizer.zero_grad()\n",
    "\n",
    "          # Select inputs\n",
    "          train_input = X_train[j:(j+1),:]\n",
    "          #train_input = train_input.reshape(1, train_input.shape[1] * train_input.shape[2])\n",
    "\n",
    "          if train_input.shape[0] == 0:\n",
    "            continue\n",
    "\n",
    "          train_output = linear_model(train_input)\n",
    "          true_output = y_train[j:(j+1)]\n",
    "          \n",
    "          loss = criterion(train_output, true_output)\n",
    "          loss.backward()\n",
    "          linear_optimizer.step()"
   ]
  },
  {
   "cell_type": "markdown",
   "metadata": {
    "colab_type": "text",
    "id": "oJzn7JOGLLp9"
   },
   "source": [
    "Also evaluate this model on the training / testing datasets, using the same method as the last one."
   ]
  },
  {
   "cell_type": "code",
   "execution_count": 0,
   "metadata": {
    "colab": {
     "base_uri": "https://localhost:8080/",
     "height": 52
    },
    "colab_type": "code",
    "id": "EkxQDYLkbKIA",
    "outputId": "cbcae17d-8981-4e76-a564-71b37750f2a0"
   },
   "outputs": [
    {
     "name": "stdout",
     "output_type": "stream",
     "text": [
      "tensor(0.8324, device='cuda:0')\n",
      "tensor(0.8260, device='cuda:0')\n"
     ]
    }
   ],
   "source": [
    "linear_model.train(False)\n",
    "\n",
    "accuracy_train = []\n",
    "for j in range(0, int(X_train.shape[0])):\n",
    "\n",
    "    # Select inputs\n",
    "    train_input = X_train[j:(j+1),:]\n",
    "\n",
    "    if train_input.shape[0] == 0:\n",
    "      continue\n",
    "\n",
    "    train_output = linear_model(train_input)\n",
    "    true_output = y_train[j:(j+1)]\n",
    "\n",
    "    correct = (train_output > 0.5) == true_output\n",
    "    accuracy_train.append(correct.float())\n",
    "\n",
    "accuracy_test = []\n",
    "for j in range(0, int(X_test.shape[0])):\n",
    "\n",
    "    # Select inputs\n",
    "    train_input = X_test[j:(j+1),:]\n",
    "\n",
    "    if train_input.shape[0] == 0:\n",
    "      continue\n",
    "\n",
    "    train_output = linear_model(train_input)\n",
    "    true_output = y_train[j:(j+1)]\n",
    "\n",
    "    correct = (train_output > 0.5) == true_output\n",
    "    accuracy_test.append(correct.float())\n",
    "\n",
    "print((sum(accuracy_train)[0][0]) / len(accuracy_train))\n",
    "print((sum(accuracy_test)[0][0]) / len(accuracy_test))"
   ]
  }
 ],
 "metadata": {
  "accelerator": "GPU",
  "colab": {
   "collapsed_sections": [],
   "name": "6_AllModels.ipynb",
   "provenance": []
  },
  "kernelspec": {
   "display_name": "Python 3",
   "language": "python",
   "name": "python3"
  },
  "language_info": {
   "codemirror_mode": {
    "name": "ipython",
    "version": 3
   },
   "file_extension": ".py",
   "mimetype": "text/x-python",
   "name": "python",
   "nbconvert_exporter": "python",
   "pygments_lexer": "ipython3",
   "version": "3.6.8"
  },
  "toc": {
   "base_numbering": 1,
   "nav_menu": {},
   "number_sections": true,
   "sideBar": true,
   "skip_h1_title": false,
   "title_cell": "Table of Contents",
   "title_sidebar": "Contents",
   "toc_cell": false,
   "toc_position": {},
   "toc_section_display": true,
   "toc_window_display": false
  }
 },
 "nbformat": 4,
 "nbformat_minor": 1
}
